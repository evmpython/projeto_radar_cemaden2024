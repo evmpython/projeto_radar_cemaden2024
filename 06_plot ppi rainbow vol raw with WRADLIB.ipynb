{
 "cells": [
  {
   "cell_type": "markdown",
   "id": "b4e5878c-2f3c-4bf3-818b-8178baa94bbf",
   "metadata": {},
   "source": [
    "# Plota PPI do arquivo bruto .VOL do RAINBOWN: \n",
    "1. https://docs.wradlib.org/en/1.19.1/io.html\n",
    "2. https://docs.wradlib.org/en/1.19.1/notebooks/fileio/wradlib_radar_formats.html#Gematronik-Rainbow\n",
    "3. https://docs.wradlib.org/en/1.19.1/notebooks/fileio/wradlib_load_rainbow_example.html"
   ]
  },
  {
   "cell_type": "code",
   "execution_count": 23,
   "id": "b370f184-8e92-4ca1-86af-b457feded709",
   "metadata": {},
   "outputs": [
    {
     "ename": "RuntimeError",
     "evalue": "OGR Error: Unsupported SRS",
     "output_type": "error",
     "traceback": [
      "\u001b[1;31m---------------------------------------------------------------------------\u001b[0m",
      "\u001b[1;31mRuntimeError\u001b[0m                              Traceback (most recent call last)",
      "Cell \u001b[1;32mIn[23], line 50\u001b[0m\n\u001b[0;32m     48\u001b[0m \u001b[38;5;66;03m# Plot data with annotation\u001b[39;00m\n\u001b[0;32m     49\u001b[0m fig \u001b[38;5;241m=\u001b[39m pl\u001b[38;5;241m.\u001b[39mfigure(figsize\u001b[38;5;241m=\u001b[39m(\u001b[38;5;241m8\u001b[39m, \u001b[38;5;241m8\u001b[39m))\n\u001b[1;32m---> 50\u001b[0m cgax, pm \u001b[38;5;241m=\u001b[39m \u001b[43mwrl\u001b[49m\u001b[38;5;241;43m.\u001b[39;49m\u001b[43mvis\u001b[49m\u001b[38;5;241;43m.\u001b[39;49m\u001b[43mplot_ppi\u001b[49m\u001b[43m(\u001b[49m\u001b[43mdata\u001b[49m\u001b[43m,\u001b[49m\u001b[43m \u001b[49m\u001b[43mr\u001b[49m\u001b[38;5;241;43m=\u001b[39;49m\u001b[43mr\u001b[49m\u001b[43m,\u001b[49m\u001b[43m \u001b[49m\u001b[43maz\u001b[49m\u001b[38;5;241;43m=\u001b[39;49m\u001b[43mazi\u001b[49m\u001b[43m,\u001b[49m\u001b[43m \u001b[49m\u001b[43mfig\u001b[49m\u001b[38;5;241;43m=\u001b[39;49m\u001b[43mfig\u001b[49m\u001b[43m,\u001b[49m\u001b[43m \u001b[49m\u001b[43mproj\u001b[49m\u001b[38;5;241;43m=\u001b[39;49m\u001b[38;5;124;43m\"\u001b[39;49m\u001b[38;5;124;43mcg\u001b[39;49m\u001b[38;5;124;43m\"\u001b[39;49m\u001b[43m)\u001b[49m\n\u001b[0;32m     52\u001b[0m title \u001b[38;5;241m=\u001b[39m \u001b[38;5;124m\"\u001b[39m\u001b[38;5;132;01m{0}\u001b[39;00m\u001b[38;5;124m \u001b[39m\u001b[38;5;132;01m{1}\u001b[39;00m\u001b[38;5;124m \u001b[39m\u001b[38;5;132;01m{2}\u001b[39;00m\u001b[38;5;124m \u001b[39m\u001b[38;5;132;01m{3}\u001b[39;00m\u001b[38;5;130;01m\\n\u001b[39;00m\u001b[38;5;132;01m{4}\u001b[39;00m\u001b[38;5;124mE \u001b[39m\u001b[38;5;132;01m{5}\u001b[39;00m\u001b[38;5;124mN\u001b[39m\u001b[38;5;124m\"\u001b[39m\u001b[38;5;241m.\u001b[39mformat(sensortype, sensorname, date, time, lon, lat)\n\u001b[0;32m     53\u001b[0m caax \u001b[38;5;241m=\u001b[39m cgax\u001b[38;5;241m.\u001b[39mparasites[\u001b[38;5;241m0\u001b[39m]\n",
      "File \u001b[1;32m~\\anaconda3\\envs\\radb\\lib\\site-packages\\wradlib\\vis.py:473\u001b[0m, in \u001b[0;36mplot_ppi\u001b[1;34m(data, r, az, elev, site, proj, fig, ax, func, rf, **kwargs)\u001b[0m\n\u001b[0;32m    459\u001b[0m     elev \u001b[38;5;241m=\u001b[39m np\u001b[38;5;241m.\u001b[39mones_like(az) \u001b[38;5;241m*\u001b[39m elev\n\u001b[0;32m    461\u001b[0m da \u001b[38;5;241m=\u001b[39m georef\u001b[38;5;241m.\u001b[39mcreate_xarray_dataarray(\n\u001b[0;32m    462\u001b[0m     data,\n\u001b[0;32m    463\u001b[0m     r\u001b[38;5;241m=\u001b[39mr,\n\u001b[1;32m   (...)\u001b[0m\n\u001b[0;32m    470\u001b[0m     \u001b[38;5;241m*\u001b[39m\u001b[38;5;241m*\u001b[39mkw_spherical,\n\u001b[0;32m    471\u001b[0m )\n\u001b[1;32m--> 473\u001b[0m da \u001b[38;5;241m=\u001b[39m \u001b[43mgeoref\u001b[49m\u001b[38;5;241;43m.\u001b[39;49m\u001b[43mgeoreference_dataset\u001b[49m\u001b[43m(\u001b[49m\u001b[43mda\u001b[49m\u001b[43m,\u001b[49m\u001b[43m \u001b[49m\u001b[43mproj\u001b[49m\u001b[38;5;241;43m=\u001b[39;49m\u001b[43mproj\u001b[49m\u001b[43m)\u001b[49m\n\u001b[0;32m    475\u001b[0m \u001b[38;5;28;01mif\u001b[39;00m util\u001b[38;5;241m.\u001b[39mhas_import(osr):\n\u001b[0;32m    476\u001b[0m     \u001b[38;5;66;03m# fallback to proj=None for GDAL OSR\u001b[39;00m\n\u001b[0;32m    477\u001b[0m     \u001b[38;5;28;01mif\u001b[39;00m \u001b[38;5;28misinstance\u001b[39m(proj, osr\u001b[38;5;241m.\u001b[39mSpatialReference):\n",
      "File \u001b[1;32m~\\anaconda3\\envs\\radb\\lib\\site-packages\\wradlib\\georef\\xarray.py:189\u001b[0m, in \u001b[0;36mgeoreference_dataset\u001b[1;34m(obj, **kwargs)\u001b[0m\n\u001b[0;32m    187\u001b[0m \u001b[38;5;66;03m# other proj, convert to aeqd\u001b[39;00m\n\u001b[0;32m    188\u001b[0m \u001b[38;5;28;01melif\u001b[39;00m proj:\n\u001b[1;32m--> 189\u001b[0m     xyz, dst_proj \u001b[38;5;241m=\u001b[39m \u001b[43mpolar\u001b[49m\u001b[38;5;241;43m.\u001b[39;49m\u001b[43mspherical_to_xyz\u001b[49m\u001b[43m(\u001b[49m\n\u001b[0;32m    190\u001b[0m \u001b[43m        \u001b[49m\u001b[43mr\u001b[49m\u001b[43m,\u001b[49m\u001b[43m \u001b[49m\u001b[43maz\u001b[49m\u001b[43m,\u001b[49m\u001b[43m \u001b[49m\u001b[43mobj\u001b[49m\u001b[43m[\u001b[49m\u001b[38;5;124;43m\"\u001b[39;49m\u001b[38;5;124;43melevation\u001b[39;49m\u001b[38;5;124;43m\"\u001b[39;49m\u001b[43m]\u001b[49m\u001b[43m,\u001b[49m\u001b[43m \u001b[49m\u001b[43msite\u001b[49m\u001b[43m,\u001b[49m\u001b[43m \u001b[49m\u001b[43mre\u001b[49m\u001b[38;5;241;43m=\u001b[39;49m\u001b[43mre\u001b[49m\u001b[43m,\u001b[49m\u001b[43m \u001b[49m\u001b[43mke\u001b[49m\u001b[38;5;241;43m=\u001b[39;49m\u001b[43mke\u001b[49m\u001b[43m,\u001b[49m\u001b[43m \u001b[49m\u001b[43msqueeze\u001b[49m\u001b[38;5;241;43m=\u001b[39;49m\u001b[38;5;28;43;01mTrue\u001b[39;49;00m\n\u001b[0;32m    191\u001b[0m \u001b[43m    \u001b[49m\u001b[43m)\u001b[49m\n\u001b[0;32m    192\u001b[0m \u001b[38;5;66;03m# proj, convert to aeqd and add offset\u001b[39;00m\n\u001b[0;32m    193\u001b[0m \u001b[38;5;28;01melse\u001b[39;00m:\n\u001b[0;32m    194\u001b[0m     xyz, dst_proj \u001b[38;5;241m=\u001b[39m polar\u001b[38;5;241m.\u001b[39mspherical_to_xyz(\n\u001b[0;32m    195\u001b[0m         r, az, obj[\u001b[38;5;124m\"\u001b[39m\u001b[38;5;124melevation\u001b[39m\u001b[38;5;124m\"\u001b[39m], site, re\u001b[38;5;241m=\u001b[39mre, ke\u001b[38;5;241m=\u001b[39mke, squeeze\u001b[38;5;241m=\u001b[39m\u001b[38;5;28;01mTrue\u001b[39;00m\n\u001b[0;32m    196\u001b[0m     )\n",
      "File \u001b[1;32m~\\anaconda3\\envs\\radb\\lib\\site-packages\\wradlib\\georef\\polar.py:106\u001b[0m, in \u001b[0;36mspherical_to_xyz\u001b[1;34m(r, phi, theta, sitecoords, re, ke, squeeze, strict_dims)\u001b[0m\n\u001b[0;32m    104\u001b[0m osr \u001b[38;5;241m=\u001b[39m import_optional(\u001b[38;5;124m\"\u001b[39m\u001b[38;5;124mosgeo.osr\u001b[39m\u001b[38;5;124m\"\u001b[39m)\n\u001b[0;32m    105\u001b[0m \u001b[38;5;28;01mif\u001b[39;00m has_import(osr):\n\u001b[1;32m--> 106\u001b[0m     rad \u001b[38;5;241m=\u001b[39m \u001b[43mprojection\u001b[49m\u001b[38;5;241;43m.\u001b[39;49m\u001b[43mproj4_to_osr\u001b[49m\u001b[43m(\u001b[49m\u001b[43mprojstr\u001b[49m\u001b[43m)\u001b[49m\n\u001b[0;32m    107\u001b[0m \u001b[38;5;28;01melse\u001b[39;00m:\n\u001b[0;32m    108\u001b[0m     rad \u001b[38;5;241m=\u001b[39m projstr\n",
      "File \u001b[1;32m~\\anaconda3\\envs\\radb\\lib\\site-packages\\wradlib\\georef\\projection.py:206\u001b[0m, in \u001b[0;36mproj4_to_osr\u001b[1;34m(proj4str)\u001b[0m\n\u001b[0;32m    204\u001b[0m proj \u001b[38;5;241m=\u001b[39m osr\u001b[38;5;241m.\u001b[39mSpatialReference()\n\u001b[0;32m    205\u001b[0m proj\u001b[38;5;241m.\u001b[39mImportFromProj4(proj4str)\n\u001b[1;32m--> 206\u001b[0m \u001b[43mproj\u001b[49m\u001b[38;5;241;43m.\u001b[39;49m\u001b[43mAutoIdentifyEPSG\u001b[49m\u001b[43m(\u001b[49m\u001b[43m)\u001b[49m\n\u001b[0;32m    208\u001b[0m \u001b[38;5;28;01mif\u001b[39;00m proj\u001b[38;5;241m.\u001b[39mValidate() \u001b[38;5;241m==\u001b[39m ogr\u001b[38;5;241m.\u001b[39mOGRERR_CORRUPT_DATA:\n\u001b[0;32m    209\u001b[0m     \u001b[38;5;28;01mraise\u001b[39;00m \u001b[38;5;167;01mValueError\u001b[39;00m(\n\u001b[0;32m    210\u001b[0m         \u001b[38;5;124m\"\u001b[39m\u001b[38;5;124mproj4str validates to \u001b[39m\u001b[38;5;124m'\u001b[39m\u001b[38;5;124mogr.OGRERR_CORRUPT_DATA\u001b[39m\u001b[38;5;124m'\u001b[39m\u001b[38;5;124m\"\u001b[39m\n\u001b[0;32m    211\u001b[0m         \u001b[38;5;124m\"\u001b[39m\u001b[38;5;124mand can\u001b[39m\u001b[38;5;124m'\u001b[39m\u001b[38;5;124mt be imported as OSR object\u001b[39m\u001b[38;5;124m\"\u001b[39m\n\u001b[0;32m    212\u001b[0m     )\n",
      "File \u001b[1;32m~\\anaconda3\\envs\\radb\\lib\\site-packages\\osgeo\\osr.py:616\u001b[0m, in \u001b[0;36mSpatialReference.AutoIdentifyEPSG\u001b[1;34m(self, *args)\u001b[0m\n\u001b[0;32m    614\u001b[0m \u001b[38;5;28;01mdef\u001b[39;00m \u001b[38;5;21mAutoIdentifyEPSG\u001b[39m(\u001b[38;5;28mself\u001b[39m, \u001b[38;5;241m*\u001b[39margs):\n\u001b[0;32m    615\u001b[0m \u001b[38;5;250m    \u001b[39m\u001b[38;5;124mr\u001b[39m\u001b[38;5;124;03m\"\"\"AutoIdentifyEPSG(SpatialReference self) -> OGRErr\"\"\"\u001b[39;00m\n\u001b[1;32m--> 616\u001b[0m     \u001b[38;5;28;01mreturn\u001b[39;00m \u001b[43m_osr\u001b[49m\u001b[38;5;241;43m.\u001b[39;49m\u001b[43mSpatialReference_AutoIdentifyEPSG\u001b[49m\u001b[43m(\u001b[49m\u001b[38;5;28;43mself\u001b[39;49m\u001b[43m,\u001b[49m\u001b[43m \u001b[49m\u001b[38;5;241;43m*\u001b[39;49m\u001b[43margs\u001b[49m\u001b[43m)\u001b[49m\n",
      "\u001b[1;31mRuntimeError\u001b[0m: OGR Error: Unsupported SRS"
     ]
    },
    {
     "data": {
      "text/plain": [
       "<Figure size 800x800 with 0 Axes>"
      ]
     },
     "metadata": {},
     "output_type": "display_data"
    }
   ],
   "source": [
    "# importa bibliotecas\n",
    "import wradlib as wrl\n",
    "import matplotlib.pyplot as pl\n",
    "import numpy as np\n",
    "import warnings\n",
    "\n",
    "warnings.filterwarnings(\"ignore\")\n",
    "try:\n",
    "    get_ipython().run_line_magic(\"matplotlib inline\")\n",
    "except:\n",
    "    pl.ion()\n",
    "\n",
    "# Load Rainbow file\n",
    "file = '2024010300113700dBZ.vol'\n",
    "rbdict = wrl.io.read_rainbow(file)\n",
    "\n",
    "# define a elevação\n",
    "elev = 0\n",
    "\n",
    "# Get azimuthal data\n",
    "azi = rbdict[\"volume\"][\"scan\"][\"slice\"][elev][\"slicedata\"][\"rayinfo\"][\"data\"]\n",
    "azidepth = float(rbdict[\"volume\"][\"scan\"][\"slice\"][elev][\"slicedata\"][\"rayinfo\"][\"@depth\"])\n",
    "azirange = float(rbdict[\"volume\"][\"scan\"][\"slice\"][elev][\"slicedata\"][\"rayinfo\"][\"@rays\"])\n",
    "azires = float(rbdict[\"volume\"][\"scan\"][\"slice\"][elev][\"rangestep\"])\n",
    "azi = (azi * azirange / 2**azidepth) * azires\n",
    "\n",
    "# Create range array\n",
    "stoprange = float(rbdict[\"volume\"][\"scan\"][\"slice\"][elev][\"stoprange\"])\n",
    "rangestep = float(rbdict[\"volume\"][\"scan\"][\"slice\"][elev][\"rangestep\"])\n",
    "r = np.arange(0, stoprange, rangestep)\n",
    "\n",
    "# Get reflectivity data\n",
    "data = rbdict[\"volume\"][\"scan\"][\"slice\"][elev][\"slicedata\"][\"rawdata\"][\"data\"]\n",
    "datadepth = float(rbdict[\"volume\"][\"scan\"][\"slice\"][elev][\"slicedata\"][\"rawdata\"][\"@depth\"])\n",
    "datamin = float(rbdict[\"volume\"][\"scan\"][\"slice\"][elev][\"slicedata\"][\"rawdata\"][\"@min\"])\n",
    "datamax = float(rbdict[\"volume\"][\"scan\"][\"slice\"][elev][\"slicedata\"][\"rawdata\"][\"@max\"])\n",
    "data = datamin + data * (datamax - datamin) / 2**datadepth\n",
    "\n",
    "# Get annotation data\n",
    "unit = rbdict[\"volume\"][\"scan\"][\"slice\"][elev][\"slicedata\"][\"rawdata\"][\"@type\"]\n",
    "time = rbdict[\"volume\"][\"scan\"][\"slice\"][elev][\"slicedata\"][\"@time\"]\n",
    "date = rbdict[\"volume\"][\"scan\"][\"slice\"][elev][\"slicedata\"][\"@date\"]\n",
    "lon = rbdict[\"volume\"][\"sensorinfo\"][\"lon\"]\n",
    "lat = rbdict[\"volume\"][\"sensorinfo\"][\"lat\"]\n",
    "sensortype = rbdict[\"volume\"][\"sensorinfo\"][\"@type\"]\n",
    "sensorname = rbdict[\"volume\"][\"sensorinfo\"][\"@name\"]\n",
    "\n",
    "# Plot data with annotation\n",
    "fig = pl.figure(figsize=(8, 8))\n",
    "cgax, pm = wrl.vis.plot_ppi(data, r=r, az=azi, fig=fig, proj=\"cg\")\n",
    "\n",
    "title = \"{0} {1} {2} {3}\\n{4}E {5}N\".format(sensortype, sensorname, date, time, lon, lat)\n",
    "caax = cgax.parasites[0]\n",
    "t = pl.title(title, fontsize=12)\n",
    "t.set_y(1.1)\n",
    "cbar = pl.gcf().colorbar(pm, pad=0.075)\n",
    "caax.set_xlabel(\"x_range [km]\")\n",
    "caax.set_ylabel(\"y_range [km]\")\n",
    "pl.text(1.0, 1.05, \"azimuth\", transform=caax.transAxes, va=\"bottom\", ha=\"right\")\n",
    "cbar.set_label(\"reflectivity [\" + unit + \"]\")"
   ]
  },
  {
   "cell_type": "code",
   "execution_count": null,
   "id": "bd3d0290-df55-4a55-8752-c06dacaf6099",
   "metadata": {},
   "outputs": [],
   "source": []
  }
 ],
 "metadata": {
  "kernelspec": {
   "display_name": "Python 3 (ipykernel)",
   "language": "python",
   "name": "python3"
  },
  "language_info": {
   "codemirror_mode": {
    "name": "ipython",
    "version": 3
   },
   "file_extension": ".py",
   "mimetype": "text/x-python",
   "name": "python",
   "nbconvert_exporter": "python",
   "pygments_lexer": "ipython3",
   "version": "3.10.11"
  }
 },
 "nbformat": 4,
 "nbformat_minor": 5
}
